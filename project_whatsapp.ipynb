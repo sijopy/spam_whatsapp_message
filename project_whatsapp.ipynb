{
 "cells": [
  {
   "cell_type": "code",
   "execution_count": 12,
   "id": "4e23ab39",
   "metadata": {},
   "outputs": [
    {
     "name": "stdout",
     "output_type": "stream",
     "text": [
      "student name is =sijo\n",
      "mark1=50\n",
      "mark2=60\n",
      "mark3=80\n",
      "mark4=70\n",
      "mark5=66\n",
      "percentage= 65.2\n",
      "stident name is sijo percentage is 65.2\n"
     ]
    }
   ],
   "source": [
    "class student_marks:\n",
    "    name=str(input(\"student name is =\"))\n",
    "    m1=int(input(\"mark1=\"))\n",
    "    m2=int(input('mark2='))\n",
    "    m3=int(input('mark3='))\n",
    "    m4=int(input(\"mark4=\"))\n",
    "    m5=int(input(\"mark5=\"))\n",
    "    total=m1+m2+m3+m4+m5\n",
    "    per=total/5\n",
    "    print(\"percentage=\",per)\n",
    "    def marks_details(self,name,per):\n",
    "        self.name=name\n",
    "        self.per=per\n",
    "    def marks(self):\n",
    "        print(\"stident name is\",self.name,\"percentage is\",self.per)\n",
    "obj=student_marks()\n",
    "obj.marks_details(obj.name,obj.per)\n",
    "obj.marks()\n",
    "        "
   ]
  },
  {
   "cell_type": "code",
   "execution_count": 22,
   "id": "c4811e2b",
   "metadata": {},
   "outputs": [
    {
     "name": "stdout",
     "output_type": "stream",
     "text": [
      "given numbers5\n",
      "value for sqare is <bound method square.square of <__main__.square object at 0x000001ABB79B9280>>\n"
     ]
    }
   ],
   "source": [
    "class square():\n",
    "    a=int(input(\"given numbers\"))\n",
    "    square=a**2\n",
    "    def of_square(self,square):\n",
    "        self.square=square\n",
    "    def square(self):\n",
    "        print(\"value for sqare is\",self.square)\n",
    "obj=square()\n",
    "obj.of_square(obj.square)\n",
    "obj.square()\n",
    "    "
   ]
  },
  {
   "cell_type": "code",
   "execution_count": 23,
   "id": "081a7eef",
   "metadata": {},
   "outputs": [
    {
     "name": "stdout",
     "output_type": "stream",
     "text": [
      "Note: you may need to restart the kernel to use updated packages.\n"
     ]
    },
    {
     "name": "stderr",
     "output_type": "stream",
     "text": [
      "ERROR: Could not find a version that satisfies the requirement sys (from versions: none)\n",
      "ERROR: No matching distribution found for sys\n"
     ]
    }
   ],
   "source": [
    "pip install sys"
   ]
  },
  {
   "cell_type": "code",
   "execution_count": 3,
   "id": "56c1d6db",
   "metadata": {},
   "outputs": [],
   "source": [
    "import pyautogui as py\n",
    "import webbrowser as wb\n",
    "import time\n",
    "time.sleep(30)\n",
    "wb.open(\"https://web.whatsapp.com/\")\n",
    "for i in range(1000):\n",
    "    py.typewrite(\"YOUR HACKED☠️☠️☠️☠️☠️\")\n",
    "    py.press(\"enter\")"
   ]
  },
  {
   "cell_type": "code",
   "execution_count": null,
   "id": "b50b265b",
   "metadata": {
    "scrolled": true
   },
   "outputs": [],
   "source": [
    "YOUR HACKED\n",
    "struct group_info init_groups = { }"
   ]
  }
 ],
 "metadata": {
  "kernelspec": {
   "display_name": "Python 3 (ipykernel)",
   "language": "python",
   "name": "python3"
  },
  "language_info": {
   "codemirror_mode": {
    "name": "ipython",
    "version": 3
   },
   "file_extension": ".py",
   "mimetype": "text/x-python",
   "name": "python",
   "nbconvert_exporter": "python",
   "pygments_lexer": "ipython3",
   "version": "3.9.12"
  }
 },
 "nbformat": 4,
 "nbformat_minor": 5
}
