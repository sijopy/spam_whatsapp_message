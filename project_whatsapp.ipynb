{
 "cells": [
  {
   "cell_type": "code",
   "execution_count": 3,
   "id": "56c1d6db",
   "metadata": {},
   "outputs": [],
   "source": [
    "import pyautogui as py\n",
    "import webbrowser as wb\n",
    "import time\n",
    "time.sleep(30)\n",
    "wb.open(\"https://web.whatsapp.com/\")\n",
    "for i in range(1000):\n",
    "    py.typewrite(\"YOUR HACKED☠️☠️☠️☠️☠️\")\n",
    "    py.press(\"enter\")"
   ]
  },
  {
   "cell_type": "code",
   "execution_count": null,
   "id": "b50b265b",
   "metadata": {
    "scrolled": true
   },
   "outputs": [],
   "source": []
  }
 ],
 "metadata": {
  "kernelspec": {
   "display_name": "Python 3 (ipykernel)",
   "language": "python",
   "name": "python3"
  },
  "language_info": {
   "codemirror_mode": {
    "name": "ipython",
    "version": 3
   },
   "file_extension": ".py",
   "mimetype": "text/x-python",
   "name": "python",
   "nbconvert_exporter": "python",
   "pygments_lexer": "ipython3",
   "version": "3.9.12"
  }
 },
 "nbformat": 4,
 "nbformat_minor": 5
}
